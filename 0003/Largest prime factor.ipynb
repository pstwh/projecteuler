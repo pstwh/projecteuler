{
 "cells": [
  {
   "cell_type": "markdown",
   "metadata": {},
   "source": [
    "<div class=\"alert alert-warning\">\n",
    "  <h3>Largest prime factor</h3>\n",
    "  <h4> Problem 03 </h4>\n",
    "  <p>\n",
    "The prime factors of 13195 are 5, 7, 13 and 29.\n",
    "<br><br>\n",
    "What is the largest prime factor of the number <b>600851475143</b> ?\n",
    "  </p>\n",
    "\n",
    "</div>"
   ]
  },
  {
   "cell_type": "code",
   "execution_count": 9,
   "metadata": {},
   "outputs": [
    {
     "name": "stdout",
     "output_type": "stream",
     "text": [
      "6857\n"
     ]
    }
   ],
   "source": [
    "import math\n",
    "\n",
    "n = 600851475143\n",
    "r = 0\n",
    "c = 2\n",
    "\n",
    "while c * c <= n:\n",
    "    if n % c == 0:\n",
    "        n = n/c\n",
    "        r = c\n",
    "    else:\n",
    "        c = c + 1 \n",
    "\n",
    "if n > r:\n",
    "    r = n\n",
    "\n",
    "print(int(r))\n"
   ]
  },
  {
   "cell_type": "code",
   "execution_count": null,
   "metadata": {
    "collapsed": true
   },
   "outputs": [],
   "source": []
  }
 ],
 "metadata": {
  "kernelspec": {
   "display_name": "Python 3",
   "language": "python",
   "name": "python3"
  },
  "language_info": {
   "codemirror_mode": {
    "name": "ipython",
    "version": 3
   },
   "file_extension": ".py",
   "mimetype": "text/x-python",
   "name": "python",
   "nbconvert_exporter": "python",
   "pygments_lexer": "ipython3",
   "version": "3.6.1"
  }
 },
 "nbformat": 4,
 "nbformat_minor": 2
}
