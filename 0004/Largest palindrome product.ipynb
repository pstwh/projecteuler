{
 "cells": [
  {
   "cell_type": "markdown",
   "metadata": {},
   "source": [
    "<div class=\"alert alert-warning\">\n",
    "  <h3>Largest palindrome product</h3>\n",
    "  <h4> Problem 04 </h4>\n",
    "  <p>\n",
    "A palindromic number reads the same both ways. The largest palindrome made from the product of two 2-digit numbers is <b>9009 = 91 × 99.</b>\n",
    "\n",
    "<br><br>\n",
    "\n",
    "Find the largest palindrome made from the product of two 3-digit numbers.\n",
    "  </p>\n",
    "\n",
    "</div>"
   ]
  },
  {
   "cell_type": "code",
   "execution_count": 5,
   "metadata": {},
   "outputs": [
    {
     "name": "stdout",
     "output_type": "stream",
     "text": [
      "906609\n"
     ]
    }
   ],
   "source": [
    "r = 0\n",
    "\n",
    "for i in range(1, 1000):\n",
    "    for j in range(1, 1000):\n",
    "        n = i*j\n",
    "        \n",
    "        if(str(n) == str(n)[::-1]):\n",
    "            if n > r:\n",
    "                r = n\n",
    "print(r)"
   ]
  }
 ],
 "metadata": {
  "kernelspec": {
   "display_name": "Python 3",
   "language": "python",
   "name": "python3"
  },
  "language_info": {
   "codemirror_mode": {
    "name": "ipython",
    "version": 3
   },
   "file_extension": ".py",
   "mimetype": "text/x-python",
   "name": "python",
   "nbconvert_exporter": "python",
   "pygments_lexer": "ipython3",
   "version": "3.6.1"
  }
 },
 "nbformat": 4,
 "nbformat_minor": 2
}
