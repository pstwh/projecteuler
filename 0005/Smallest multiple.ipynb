{
 "cells": [
  {
   "cell_type": "markdown",
   "metadata": {},
   "source": [
    "<div class=\"alert alert-warning\">\n",
    "  <h3>Smallest multiple</h3>\n",
    "  <h4> Problem 05 </h4>\n",
    "  <p>\n",
    "2520 is the smallest number that can be divided by each of the numbers from 1 to 10 without any remainder.\n",
    "\n",
    "<br><br>\n",
    "\n",
    "What is the smallest positive number that is evenly divisible by all of the numbers from 1 to 20?\n",
    "  </p>\n",
    "\n",
    "</div>"
   ]
  },
  {
   "cell_type": "code",
   "execution_count": 1,
   "metadata": {},
   "outputs": [
    {
     "name": "stdout",
     "output_type": "stream",
     "text": [
      "2520\n",
      "232792560\n"
     ]
    }
   ],
   "source": [
    "def smallest_multiple(n):\n",
    "    m = 0\n",
    "    while True:\n",
    "        v = True\n",
    "\n",
    "        for x in range(1, n+1):\n",
    "            if m % x != 0 or m == 0:\n",
    "                m = m + n\n",
    "                v = False\n",
    "                break\n",
    "        if(v):\n",
    "            return m\n",
    "        \n",
    "print(smallest_multiple(10))\n",
    "print(smallest_multiple(20))\n",
    "    "
   ]
  }
 ],
 "metadata": {
  "kernelspec": {
   "display_name": "Python 3",
   "language": "python",
   "name": "python3"
  },
  "language_info": {
   "codemirror_mode": {
    "name": "ipython",
    "version": 3
   },
   "file_extension": ".py",
   "mimetype": "text/x-python",
   "name": "python",
   "nbconvert_exporter": "python",
   "pygments_lexer": "ipython3",
   "version": "3.6.1"
  }
 },
 "nbformat": 4,
 "nbformat_minor": 2
}
