{
 "cells": [
  {
   "cell_type": "markdown",
   "metadata": {},
   "source": [
    "<div class=\"alert alert-warning\">\n",
    "  <h3>Sum square difference</h3>\n",
    "  <h4> Problem 06 </h4>\n",
    "  <p>\n",
    "The sum of the squares of the first ten natural numbers is,\n",
    "<br><br>\n",
    "<div class=\"text-center\"> <b>12 + 22 + ... + 102 = 385</b></div>\n",
    "The square of the sum of the first ten natural numbers is,\n",
    "<br><br>\n",
    "<div class=\"text-center\"> <b>(1 + 2 + ... + 10)2 = 552 = 3025</b></div>\n",
    "Hence the difference between the sum of the squares of the first ten natural numbers and the square of the sum is 3025 − 385 = 2640.\n",
    "<br><br>\n",
    "Find the difference between the sum of the squares of the first one hundred natural numbers and the square of the sum.\n",
    "  </p>\n",
    "\n",
    "</div>"
   ]
  },
  {
   "cell_type": "code",
   "execution_count": 14,
   "metadata": {},
   "outputs": [
    {
     "name": "stdout",
     "output_type": "stream",
     "text": [
      "2640\n",
      "25164150\n"
     ]
    }
   ],
   "source": [
    "def sum_square_dif(n):\n",
    "    return abs(sum(x for x in range(1, n+1))**2 - sum(x**2 for x in range(1, n+1)))\n",
    "\n",
    "print(sum_square_dif(10))\n",
    "print(sum_square_dif(100))"
   ]
  }
 ],
 "metadata": {
  "kernelspec": {
   "display_name": "Python 3",
   "language": "python",
   "name": "python3"
  },
  "language_info": {
   "codemirror_mode": {
    "name": "ipython",
    "version": 3
   },
   "file_extension": ".py",
   "mimetype": "text/x-python",
   "name": "python",
   "nbconvert_exporter": "python",
   "pygments_lexer": "ipython3",
   "version": "3.6.1"
  }
 },
 "nbformat": 4,
 "nbformat_minor": 2
}
