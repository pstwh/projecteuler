{
 "cells": [
  {
   "cell_type": "markdown",
   "metadata": {},
   "source": [
    "<div class=\"alert alert-warning\">\n",
    "  <h3>Special Pythagorean triplet</h3>\n",
    "  <h4> Problem 09 </h4>\n",
    "  <p>\n",
    "A Pythagorean triplet is a set of three natural numbers, a < b < c, for which,\n",
    "\n",
    "\n",
    "<div class=\"text-center\"><b>a2 + b2 = c2</b></div>\n",
    "<div class=\"text-center\"><b>For example, 32 + 42 = 9 + 16 = 25 = 52.</b></div>\n",
    "\n",
    "There exists exactly one Pythagorean triplet for which a + b + c = 1000.\n",
    "Find the product abc.\n",
    "  </p>\n",
    "\n",
    "</div>"
   ]
  },
  {
   "cell_type": "code",
   "execution_count": 5,
   "metadata": {},
   "outputs": [
    {
     "name": "stdout",
     "output_type": "stream",
     "text": [
      "31875000\n"
     ]
    }
   ],
   "source": [
    "\n",
    "def check_triplet(a, b, c):\n",
    "    if(a < b and b < c):\n",
    "        if(a**2 + b**2 == c**2 and a + b + c == 1000):\n",
    "            return True\n",
    "    return False\n",
    "\n",
    "for a in range(1, 500):\n",
    "    for b in range(1, 500):\n",
    "        for c in range(1, 500):\n",
    "            if(check_triplet(a, b, c)):\n",
    "                print(a*b*c)\n",
    "                "
   ]
  }
 ],
 "metadata": {
  "kernelspec": {
   "display_name": "Python 3",
   "language": "python",
   "name": "python3"
  },
  "language_info": {
   "codemirror_mode": {
    "name": "ipython",
    "version": 3
   },
   "file_extension": ".py",
   "mimetype": "text/x-python",
   "name": "python",
   "nbconvert_exporter": "python",
   "pygments_lexer": "ipython3",
   "version": "3.6.1"
  }
 },
 "nbformat": 4,
 "nbformat_minor": 2
}
