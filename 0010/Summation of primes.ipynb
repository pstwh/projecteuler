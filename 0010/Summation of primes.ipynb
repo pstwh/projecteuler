{
 "cells": [
  {
   "cell_type": "markdown",
   "metadata": {},
   "source": [
    "<div class=\"alert alert-warning\">\n",
    "  <h3>Summation of primes</h3>\n",
    "  <h4> Problem 10 </h4>\n",
    "  <p>\n",
    "The sum of the primes below 10 is 2 + 3 + 5 + 7 = 17.\n",
    "<br>\n",
    "Find the sum of all the primes below two million.\n",
    "  </p>\n",
    "\n",
    "</div>"
   ]
  },
  {
   "cell_type": "code",
   "execution_count": 1,
   "metadata": {},
   "outputs": [
    {
     "name": "stdout",
     "output_type": "stream",
     "text": [
      "17\n",
      "142913828922\n"
     ]
    }
   ],
   "source": [
    "#https://en.wikipedia.org/wiki/Sieve_of_Eratosthenes\n",
    "#https://stackoverflow.com/questions/3939660/sieve-of-eratosthenes-finding-primes-python\n",
    "\n",
    "import math\n",
    "\n",
    "def sieve(n):\n",
    "    A = [x > 1 for x in range(n+1)]\n",
    "    \n",
    "    for i in range(2, int(math.sqrt(n))+1):\n",
    "        if A[i]:\n",
    "            for j in range(i**2, n+1, i):\n",
    "                A[j] = False    \n",
    "    return A\n",
    "    \n",
    "def sieve_sum(A):\n",
    "    sum = 0\n",
    "    for i in range(len(A)):\n",
    "        if A[i]:\n",
    "            sum = sum + i\n",
    "    return sum\n",
    "\n",
    "A_10 = sieve(10)\n",
    "sum_A_10 = sieve_sum(A_10)\n",
    "\n",
    "print(sum_A_10)\n",
    "\n",
    "A_2000000 = sieve(2000000)\n",
    "sum_A_2000000 = sieve_sum(A_2000000)\n",
    "\n",
    "print(sum_A_2000000)"
   ]
  }
 ],
 "metadata": {
  "kernelspec": {
   "display_name": "Python 3",
   "language": "python",
   "name": "python3"
  },
  "language_info": {
   "codemirror_mode": {
    "name": "ipython",
    "version": 3
   },
   "file_extension": ".py",
   "mimetype": "text/x-python",
   "name": "python",
   "nbconvert_exporter": "python",
   "pygments_lexer": "ipython3",
   "version": "3.6.1"
  }
 },
 "nbformat": 4,
 "nbformat_minor": 2
}
