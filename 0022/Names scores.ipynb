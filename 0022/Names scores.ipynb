{
 "cells": [
  {
   "cell_type": "markdown",
   "metadata": {},
   "source": [
    "<div class=\"alert alert-warning\">\n",
    "  <h3>Names scores</h3>\n",
    "  <h4> Problem 22 </h4>\n",
    "  <p>\n",
    "Using <a href=\"p022_names.txt\">names.txt</a> (right click and 'Save Link/Target As...'), a 46K text file containing over five-thousand first names, begin by sorting it into alphabetical order. Then working out the alphabetical value for each name, multiply this value by its alphabetical position in the list to obtain a name score.<br>\n",
    "<br>\n",
    "For example, when the list is sorted into alphabetical order, COLIN, which is worth 3 + 15 + 12 + 9 + 14 = 53, is the 938th name in the list. So, COLIN would obtain a score of 938 × 53 = 49714.<br>\n",
    "<br>\n",
    "What is the total of all the name scores in the file?\n",
    "  </p>\n",
    "</div>"
   ]
  },
  {
   "cell_type": "code",
   "execution_count": 2,
   "metadata": {},
   "outputs": [
    {
     "name": "stdout",
     "output_type": "stream",
     "text": [
      "871198282\n"
     ]
    }
   ],
   "source": [
    "f = open('p022_names.txt', 'r')\n",
    "n = f.read()\n",
    "\n",
    "l = sorted(n.split(','))\n",
    "\n",
    "s = 0\n",
    "for wi in range(len(l)):\n",
    "    sn = 0\n",
    "    for c in l[wi][1:-1]:\n",
    "        sn = sn + (ord(c)-64)\n",
    "    m = sn * (wi + 1)\n",
    "    s = s + m\n",
    "print(s)"
   ]
  }
 ],
 "metadata": {
  "kernelspec": {
   "display_name": "Python 3",
   "language": "python",
   "name": "python3"
  },
  "language_info": {
   "codemirror_mode": {
    "name": "ipython",
    "version": 3
   },
   "file_extension": ".py",
   "mimetype": "text/x-python",
   "name": "python",
   "nbconvert_exporter": "python",
   "pygments_lexer": "ipython3",
   "version": "3.6.1"
  }
 },
 "nbformat": 4,
 "nbformat_minor": 2
}
