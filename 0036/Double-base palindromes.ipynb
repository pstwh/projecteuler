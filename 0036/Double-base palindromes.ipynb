{
 "cells": [
  {
   "cell_type": "markdown",
   "metadata": {},
   "source": [
    "<div class=\"alert alert-warning\">\n",
    "  <h3>Double-base palindromes</h3>\n",
    "  <h4> Problem 36 </h4>\n",
    "  <p>\n",
    "The decimal number, 585 = 1001001001 (binary), is palindromic in both bases.<br><br>\n",
    "\n",
    "Find the sum of all numbers, less than one million, which are palindromic in base 10 and base 2.<br><br>\n",
    "\n",
    "(Please note that the palindromic number, in either base, may not include leading zeros.)<br><br>\n",
    "  </p>\n",
    "</div>"
   ]
  },
  {
   "cell_type": "code",
   "execution_count": 12,
   "metadata": {},
   "outputs": [
    {
     "name": "stdout",
     "output_type": "stream",
     "text": [
      "596028\n"
     ]
    }
   ],
   "source": [
    "import math\n",
    "\n",
    "def check_palindrome(s):\n",
    "    l = int(round(len(s)/2))\n",
    "    \n",
    "    if len(s) % 2 == 0:\n",
    "        m = l\n",
    "    else:\n",
    "        m = l-1\n",
    "    \n",
    "    if(s[:m] == s[l:][::-1]):\n",
    "        return True\n",
    "    return False\n",
    "\n",
    "s = 0\n",
    "for i in range(1, 1000000):\n",
    "    if(check_palindrome(str(i)) and check_palindrome(str(bin(i))[2:])):\n",
    "        s = s + i\n",
    "    \n",
    "print(s)"
   ]
  }
 ],
 "metadata": {
  "kernelspec": {
   "display_name": "Python 3",
   "language": "python",
   "name": "python3"
  },
  "language_info": {
   "codemirror_mode": {
    "name": "ipython",
    "version": 3
   },
   "file_extension": ".py",
   "mimetype": "text/x-python",
   "name": "python",
   "nbconvert_exporter": "python",
   "pygments_lexer": "ipython3",
   "version": "3.6.1"
  }
 },
 "nbformat": 4,
 "nbformat_minor": 2
}
